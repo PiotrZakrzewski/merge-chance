{
 "cells": [
  {
   "cell_type": "code",
   "execution_count": null,
   "metadata": {},
   "outputs": [],
   "source": [
    "import pandas as pd\n",
    "import seaborn as sns"
   ]
  },
  {
   "cell_type": "code",
   "execution_count": null,
   "metadata": {},
   "outputs": [],
   "source": [
    "fbthrift = pd.read_csv(\"facebook_fbthrift.csv\")\n",
    "extracted_on = 1607793174 # 12.12.2020"
   ]
  },
  {
   "cell_type": "code",
   "execution_count": null,
   "metadata": {},
   "outputs": [],
   "source": [
    "fbthrift"
   ]
  },
  {
   "cell_type": "code",
   "execution_count": null,
   "metadata": {},
   "outputs": [],
   "source": [
    "closed_unmerged = fbthrift.query(\"state == 'closed' & merged == False\")\n",
    "closed_unmerged = closed_unmerged.assign(PR=\"Rejected\")\n",
    "closed_unmerged"
   ]
  },
  {
   "cell_type": "code",
   "execution_count": null,
   "metadata": {},
   "outputs": [],
   "source": [
    "stale_threshold = extracted_on - 90 * 24 * 60 * 60 # 90 days in seconds\n",
    "open_stale = fbthrift.query(f\"state == 'open' & created_at < {stale_threshold}\")\n",
    "open_stale = open_stale.assign(PR=\"Stale\")\n",
    "open_stale"
   ]
  },
  {
   "cell_type": "code",
   "execution_count": null,
   "metadata": {},
   "outputs": [],
   "source": [
    "active_open = fbthrift.query(f\"state == 'open' & created_at > {stale_threshold}\")\n",
    "active_open = active_open.assign(PR=\"Active\")\n",
    "active_open"
   ]
  },
  {
   "cell_type": "code",
   "execution_count": null,
   "metadata": {},
   "outputs": [],
   "source": [
    "successful_prs = fbthrift.query(f\"state == 'closed' & merged == True\")\n",
    "successful_prs = successful_prs.assign(PR=\"Successful\") \n",
    "successful_prs\n"
   ]
  },
  {
   "cell_type": "code",
   "execution_count": null,
   "metadata": {},
   "outputs": [],
   "source": [
    "score = pd.concat([successful_prs, closed_unmerged, open_stale, active_open])\n",
    "sns.countplot(data=score, x=\"PR\")"
   ]
  },
  {
   "cell_type": "code",
   "execution_count": null,
   "metadata": {},
   "outputs": [],
   "source": []
  }
 ],
 "metadata": {
  "kernelspec": {
   "display_name": "Python 3",
   "language": "python",
   "name": "python3"
  },
  "language_info": {
   "codemirror_mode": {
    "name": "ipython",
    "version": 3
   },
   "file_extension": ".py",
   "mimetype": "text/x-python",
   "name": "python",
   "nbconvert_exporter": "python",
   "pygments_lexer": "ipython3",
   "version": "3.8.6"
  }
 },
 "nbformat": 4,
 "nbformat_minor": 4
}
